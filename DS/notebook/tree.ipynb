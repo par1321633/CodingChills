{
 "cells": [
  {
   "cell_type": "code",
   "execution_count": 1,
   "metadata": {},
   "outputs": [],
   "source": [
    "%load_ext autoreload\n",
    "%autoreload 2   "
   ]
  },
  {
   "cell_type": "code",
   "execution_count": 1,
   "metadata": {},
   "outputs": [],
   "source": [
    "import os, sys"
   ]
  },
  {
   "cell_type": "code",
   "execution_count": 2,
   "metadata": {},
   "outputs": [],
   "source": [
    "sys.path.append(os.getenv('PYTHON_DS'))"
   ]
  },
  {
   "cell_type": "code",
   "execution_count": 3,
   "metadata": {},
   "outputs": [],
   "source": [
    "from DataStructures.Tree.binary_tree import Node, BinaryTree"
   ]
  },
  {
   "cell_type": "code",
   "execution_count": 4,
   "metadata": {},
   "outputs": [],
   "source": [
    "t = Node(1)"
   ]
  },
  {
   "cell_type": "code",
   "execution_count": 5,
   "metadata": {},
   "outputs": [],
   "source": [
    "t.left = Node(2)\n",
    "t.right = Node(3)"
   ]
  },
  {
   "cell_type": "code",
   "execution_count": 6,
   "metadata": {},
   "outputs": [],
   "source": [
    "t.left.left = Node(4)\n",
    "t.left.right = Node(5)\n",
    "t.right.left = Node(6)"
   ]
  },
  {
   "cell_type": "code",
   "execution_count": 7,
   "metadata": {},
   "outputs": [],
   "source": [
    "t.left.left.right = Node(7)"
   ]
  },
  {
   "cell_type": "code",
   "execution_count": 8,
   "metadata": {},
   "outputs": [
    {
     "data": {
      "text/plain": [
       "<DataStructures.Tree.binary_tree.Node at 0x1a3b8ac2908>"
      ]
     },
     "execution_count": 8,
     "metadata": {},
     "output_type": "execute_result"
    }
   ],
   "source": [
    "t"
   ]
  },
  {
   "cell_type": "code",
   "execution_count": 18,
   "metadata": {},
   "outputs": [],
   "source": [
    "btree = BinaryTree1(t)"
   ]
  },
  {
   "cell_type": "code",
   "execution_count": 10,
   "metadata": {},
   "outputs": [
    {
     "name": "stdout",
     "output_type": "stream",
     "text": [
      "4\n",
      "7\n",
      "2\n",
      "5\n",
      "1\n",
      "6\n",
      "3\n"
     ]
    }
   ],
   "source": [
    "btree.printInorderTraversal()"
   ]
  },
  {
   "cell_type": "code",
   "execution_count": 11,
   "metadata": {},
   "outputs": [
    {
     "name": "stdout",
     "output_type": "stream",
     "text": [
      "7\n",
      "4\n",
      "5\n",
      "2\n",
      "6\n",
      "3\n",
      "1\n"
     ]
    }
   ],
   "source": [
    "btree.printPostOrderTraversal()"
   ]
  },
  {
   "cell_type": "code",
   "execution_count": 12,
   "metadata": {},
   "outputs": [
    {
     "name": "stdout",
     "output_type": "stream",
     "text": [
      "1\n",
      "2\n",
      "4\n",
      "7\n",
      "5\n",
      "3\n",
      "6\n"
     ]
    }
   ],
   "source": [
    "btree.printPreOrderTraversal()"
   ]
  },
  {
   "cell_type": "code",
   "execution_count": 13,
   "metadata": {},
   "outputs": [
    {
     "name": "stdout",
     "output_type": "stream",
     "text": [
      "4\n",
      "7\n",
      "2\n",
      "5\n",
      "1\n",
      "6\n",
      "3\n"
     ]
    }
   ],
   "source": [
    "btree.printInorderUsingStacks()"
   ]
  },
  {
   "cell_type": "code",
   "execution_count": 19,
   "metadata": {},
   "outputs": [
    {
     "name": "stdout",
     "output_type": "stream",
     "text": [
      "4\n",
      "7\n",
      "7\n",
      "2\n",
      "5\n",
      "5\n",
      "1\n",
      "6\n",
      "3\n",
      "3\n"
     ]
    }
   ],
   "source": [
    "btree.printPostorderUsingStacks()"
   ]
  },
  {
   "cell_type": "code",
   "execution_count": 15,
   "metadata": {},
   "outputs": [
    {
     "name": "stdout",
     "output_type": "stream",
     "text": [
      "1\n",
      "2\n",
      "4\n",
      "7\n",
      "5\n",
      "3\n",
      "6\n"
     ]
    }
   ],
   "source": [
    "btree.printPreorderUsingStacks()"
   ]
  },
  {
   "cell_type": "code",
   "execution_count": 17,
   "metadata": {},
   "outputs": [],
   "source": [
    "class Node:\n",
    "    def __init__(self, val):\n",
    "        self.val = val\n",
    "        self.left = None\n",
    "        self.right = None\n",
    "\n",
    "\n",
    "class BinaryTree1:\n",
    "    def __init__(self,root):\n",
    "        self.root = root\n",
    "\n",
    "    def printInorder(self, root):\n",
    "    # LEFT, ROOT, RIGHT\n",
    "        if root:\n",
    "            # First recur on left child\n",
    "            self.printInorder(root.left)\n",
    "            # then print the data of node\n",
    "            print(root.val),\n",
    "            # now recur on right child\n",
    "            self.printInorder(root.right)\n",
    "\n",
    "    def printInorderTraversal(self):\n",
    "        self.printInorder(self.root)\n",
    "\n",
    "    def printPostOrderTraversal(self):\n",
    "        self.printPostorder(self.root)\n",
    "\n",
    "    def printPostorder(self, root):\n",
    "        if root:\n",
    "            self.printPostorder(root.left)\n",
    "            self.printPostorder(root.right)\n",
    "            print (root.val)\n",
    "\n",
    "    def printPreOrderTraversal(self):\n",
    "        self.printPreorder(self.root)\n",
    "\n",
    "    def printPreorder(self, root):\n",
    "        if root:\n",
    "            print(root.val)\n",
    "            self.printPreorder(root.left)\n",
    "            self.printPreorder(root.right)\n",
    "\n",
    "    def printInorderUsingStacks(self):\n",
    "        current = self.root\n",
    "        stack = []\n",
    "        while True:\n",
    "            if current:\n",
    "                stack.append(current)\n",
    "                current = current.left\n",
    "            elif (stack):\n",
    "                current = stack.pop()\n",
    "                print (current.val)\n",
    "                current = current.right\n",
    "            else:\n",
    "                break\n",
    "\n",
    "    def printPreorderUsingStacks(self):\n",
    "        current = self.root\n",
    "        stack = []\n",
    "        while True:\n",
    "            if current:\n",
    "                stack.append(current)\n",
    "                print (current.val)\n",
    "                current = current.left\n",
    "            elif (stack):\n",
    "                current = stack.pop()\n",
    "\n",
    "                current = current.right\n",
    "            else:\n",
    "                break\n",
    "\n",
    "    def printPostorderUsingStacks(self):\n",
    "        current = self.root\n",
    "        stack = []\n",
    "        while True:\n",
    "            if current:\n",
    "                if current.right:\n",
    "                    stack.append(current.right)\n",
    "                stack.append(current)\n",
    "                current = current.left\n",
    "            elif (stack):\n",
    "                current = stack.pop()\n",
    "                if current.right is None:\n",
    "                    print (current.val)\n",
    "                    current = None\n",
    "                else:\n",
    "                    if current.right == stack.pop().val:\n",
    "                        stack.append(current)\n",
    "                    current = current.right\n",
    "            else:\n",
    "                break"
   ]
  }
 ],
 "metadata": {
  "kernelspec": {
   "display_name": "Python 3",
   "language": "python",
   "name": "python3"
  },
  "language_info": {
   "codemirror_mode": {
    "name": "ipython",
    "version": 3
   },
   "file_extension": ".py",
   "mimetype": "text/x-python",
   "name": "python",
   "nbconvert_exporter": "python",
   "pygments_lexer": "ipython3",
   "version": "3.7.4"
  }
 },
 "nbformat": 4,
 "nbformat_minor": 2
}
