{
 "cells": [
  {
   "cell_type": "code",
   "execution_count": 2,
   "metadata": {},
   "outputs": [],
   "source": [
    "class Node:\n",
    "    \n",
    "    def __init__(self, data):\n",
    "        self.data = data\n",
    "        self.height = 0 #-- New Parameter, for Node it will 0 (Leaf Node)\n",
    "        self.leftChild = None\n",
    "        self.rightChild = None"
   ]
  },
  {
   "cell_type": "code",
   "execution_count": 185,
   "metadata": {},
   "outputs": [],
   "source": [
    "class AVL(object):\n",
    "    def __init__(self):\n",
    "        self.root = None\n",
    "    \n",
    "    ### HELPER MEthods####\n",
    "    def calcheight(self, node):\n",
    "        if node is None:\n",
    "            return -1\n",
    "        return node.height\n",
    "    \n",
    "    def calcbalance(self, node):\n",
    "        # if it return value > 1 it means left heavy tree - right rotation\n",
    "        # value < -1 right heavy tree -- left rotation\n",
    "        if not node:\n",
    "            return 0\n",
    "        return self.calcheight(node.leftChild) - self.calcheight(node.rightChild)\n",
    "    \n",
    "    def rotate_right(self, node):\n",
    "        print (\"Rotating RIGHT at Node :{}\".format(node.data))\n",
    "        tempLeftChild = node.leftChild\n",
    "        t = tempLeftChild.rightChild\n",
    "        \n",
    "        tempLeftChild.rightChild = node\n",
    "        node.leftChild = t\n",
    "        \n",
    "        node.height = max(self.calcheight(node.leftChild), self.calcheight(node.rightChild)) + 1\n",
    "        tempLeftChild.height = max(self.calcheight(tempLeftChild.leftChild), self.calcheight(tempLeftChild.rightChild)) + 1\n",
    "        return tempLeftChild\n",
    "    \n",
    "    def rotate_left(self, node):\n",
    "        print (\"Rotating LEFT at Node :{}\".format(node.data))\n",
    "        tempRightChild = node.rightChild\n",
    "        t = tempRightChild.leftChild\n",
    "        \n",
    "        tempRightChild.leftChild = node\n",
    "        node.rightChild = t\n",
    "    \n",
    "        node.height = max(self.calcheight(node.leftChild), self.calcheight(node.rightChild)) + 1\n",
    "        tempRightChild.height = max(self.calcheight(tempRightChild.leftChild), self.calcheight(tempRightChild.rightChild)) + 1\n",
    "        return tempRightChild \n",
    "    \n",
    "    def traverseInorder(self):\n",
    "        if self.root:\n",
    "            self.traverseInOrderRecur(self.root)\n",
    "        else:\n",
    "            print (\"Tree is empty\")\n",
    "    \n",
    "    def traverseInOrderRecur(self, node):\n",
    "        if node.leftChild is not None:\n",
    "            self.traverseInOrderRecur(node.leftChild)\n",
    "        \n",
    "        print (node.data, end='->')\n",
    "        \n",
    "        if node.rightChild is not None:\n",
    "            self.traverseInOrderRecur(node.rightChild)\n",
    "    \n",
    "    \n",
    "    def insert(self, data):\n",
    "            self.root =  self.insertNode(self.root, data)\n",
    "\n",
    "    def insertNode(self, node, data):\n",
    "        if node is None:\n",
    "            return Node(data)\n",
    "        if node.data > data:\n",
    "            print (\"Node is greater than data : {} > {}\".format(node.data, data))\n",
    "            node.leftChild = self.insertNode(node.leftChild, data)\n",
    "        else:\n",
    "            print (\"Node is smaller than data : {} < {}\".format(node.data, data))    \n",
    "            node.rightChild = self.insertNode(node.rightChild, data)\n",
    "        node.height = max(self.calcheight(node.leftChild), self.calcheight(node.rightChild)) + 1\n",
    "        print (self.traverseInorder())\n",
    "        #print (node)\n",
    "        #print (node.rightChild.data)\n",
    "        #print (node.rightChild.rightChild)\n",
    "        #return node\n",
    "        return self.settleViolation(data, node)\n",
    "    \n",
    "    def settleViolation(self, data, node):\n",
    "        balance = self.calcbalance(node)\n",
    "        \n",
    "        if balance > 1 and data < node.leftChild.data:\n",
    "            print (\"LEFT LEFT HEAVY\")\n",
    "            return self.rotate_right(node)\n",
    "        \n",
    "        if balance < -1 and data > node.rightChild.data:\n",
    "            print (\"RIGHT RIGHT HEAVY\")\n",
    "            return self.rotate_left(node)\n",
    "        \n",
    "        if balance > 1 and data  > node.leftChild.data:\n",
    "            print (\"LEFT RIGHT HEAVY\")\n",
    "            node.leftChild = self.rotate_left(node.leftChild)\n",
    "            return self.rotate_right(node)\n",
    "        \n",
    "        if balance < -1 and data < node.rightChild.data:\n",
    "            print (\"RIGHT LEFT HEAVY\")\n",
    "            print (node.data)\n",
    "            node.rightChild = self.rotate_right(node.rightChild)\n",
    "            return self.rotate_left(node)\n",
    "        return node\n",
    "    \n",
    "    def removeData(self, data):\n",
    "        if self.root:\n",
    "            self.root = self.removeNode(self.root, data)\n",
    "    \n",
    "    def removeNode(self, node, data):\n",
    "        print (\"Data to delete : {}\".format(data))\n",
    "        if not node:\n",
    "            return node\n",
    "        if node.data > data:\n",
    "            node.leftChild = self.removeNode(node.leftChild, data)\n",
    "        elif node.data < data:\n",
    "            node.rightChild = self.removeNode(node.rightChild, data)\n",
    "        else:\n",
    "            if node.leftChild is None and node.rightChild is None:\n",
    "                print (\"Leaf Node\")\n",
    "                del node\n",
    "                return None\n",
    "            elif node.leftChild is None:\n",
    "                print (\"Removing Node with right Child\")\n",
    "                tempNode = node.rightChild\n",
    "                del node\n",
    "                return tempNode\n",
    "            elif node.rightChild is None:\n",
    "                print (\"Removing Node with left Child\")\n",
    "                tempNode = node.leftChild\n",
    "                del node\n",
    "                return tempNode\n",
    "            print (node.data)\n",
    "            print (node.leftChild.data)\n",
    "            print (\"Removing Node with 2 Children\")\n",
    "            tempNode = self.getPredeccor(node.leftChild)\n",
    "            print (self.traverseInorder())\n",
    "            node.data = tempNode.data\n",
    "            print (self.traverseInorder())\n",
    "            node.leftChild = self.removeNode(node.leftChild,tempNode.data)\n",
    "            print (self.traverseInorder())\n",
    "        \n",
    "        if not node:\n",
    "            return node\n",
    "        \n",
    "        node.height = max(self.calcheight(node.leftChild), self.calcheight(node.rightChild)) + 1\n",
    "        print (node.data)\n",
    "        print (node.height)\n",
    "        balance = self.calcbalance(node)\n",
    "        print (balance)\n",
    "        print (self.calcbalance(node.leftChild))\n",
    "        print (self.calcbalance(node.rightChild))\n",
    "        print (\"!!!!!!!\")\n",
    "        if balance > 1 and self.calcbalance(node.leftChild) >= 0:\n",
    "            print (\"LEFT LEFT HEAVY\")\n",
    "            return self.rotate_right(node)\n",
    "        \n",
    "        if balance > 1 and self.calcbalance(node.leftChild) < 0:\n",
    "            print (\"LEFT RIGHT HEAVY\")\n",
    "            node.leftChild = self.rotate_left(node.leftChild)\n",
    "            return self.rotate_right(node)\n",
    "        \n",
    "        if balance < -1 and  self.calcbalance(node.rightChild) <= 0:\n",
    "            print (\"RIGHT RIGHT HEAVY\")\n",
    "            return self.rotate_left(node)\n",
    "        \n",
    "        if balance < -1 and self.calcbalance(node.rightChild) > 0:\n",
    "            print (\"RIGHT LEFT HEAVY\")\n",
    "            print (node.data)\n",
    "            node.rightChild = self.rotate_right(node.rightChild)\n",
    "            return self.rotate_left(node)\n",
    "        return node\n",
    "            "
   ]
  },
  {
   "cell_type": "code",
   "execution_count": 162,
   "metadata": {},
   "outputs": [],
   "source": [
    "avl = AVL()"
   ]
  },
  {
   "cell_type": "code",
   "execution_count": 163,
   "metadata": {},
   "outputs": [],
   "source": [
    "avl.insert(10)"
   ]
  },
  {
   "cell_type": "code",
   "execution_count": 164,
   "metadata": {},
   "outputs": [
    {
     "data": {
      "text/plain": [
       "<__main__.Node at 0x2e5fa5d7708>"
      ]
     },
     "execution_count": 164,
     "metadata": {},
     "output_type": "execute_result"
    }
   ],
   "source": [
    "avl.root"
   ]
  },
  {
   "cell_type": "code",
   "execution_count": 165,
   "metadata": {},
   "outputs": [
    {
     "name": "stdout",
     "output_type": "stream",
     "text": [
      "10->"
     ]
    }
   ],
   "source": [
    "avl.traverseInorder()"
   ]
  },
  {
   "cell_type": "code",
   "execution_count": 125,
   "metadata": {},
   "outputs": [
    {
     "name": "stdout",
     "output_type": "stream",
     "text": [
      "Node is smaller than data : 10 < 20\n",
      "10->20->None\n",
      "10->20->"
     ]
    }
   ],
   "source": [
    "avl.insert(20)\n",
    "avl.traverseInOrderRecur(avl.root)"
   ]
  },
  {
   "cell_type": "code",
   "execution_count": 126,
   "metadata": {},
   "outputs": [
    {
     "name": "stdout",
     "output_type": "stream",
     "text": [
      "Node is smaller than data : 10 < 30\n",
      "Node is smaller than data : 20 < 30\n",
      "10->20->30->None\n",
      "10->20->30->None\n",
      "RIGHT RIGHT HEAVY\n",
      "Rotating LEFT at Node :10\n",
      "10->20->30->"
     ]
    }
   ],
   "source": [
    "avl.insert(30)\n",
    "avl.traverseInorder()"
   ]
  },
  {
   "cell_type": "code",
   "execution_count": 127,
   "metadata": {},
   "outputs": [
    {
     "name": "stdout",
     "output_type": "stream",
     "text": [
      "10->20->30->"
     ]
    }
   ],
   "source": [
    "avl.traverseInorder()"
   ]
  },
  {
   "cell_type": "code",
   "execution_count": 129,
   "metadata": {},
   "outputs": [
    {
     "name": "stdout",
     "output_type": "stream",
     "text": [
      "Node is greater than data : 5 > 4\n",
      "4->5->None\n",
      "Node is greater than data : 5 > 3\n",
      "Node is greater than data : 4 > 3\n",
      "3->4->5->None\n",
      "3->4->5->None\n",
      "LEFT LEFT HEAVY\n",
      "Rotating RIGHT at Node :5\n",
      "Node is greater than data : 4 > 2\n",
      "Node is greater than data : 3 > 2\n",
      "2->3->4->5->None\n",
      "2->3->4->5->None\n",
      "Node is greater than data : 4 > 1\n",
      "Node is greater than data : 3 > 1\n",
      "Node is greater than data : 2 > 1\n",
      "1->2->3->4->5->None\n",
      "1->2->3->4->5->None\n",
      "LEFT LEFT HEAVY\n",
      "Rotating RIGHT at Node :3\n",
      "1->2->3->4->5->None\n",
      "1->2->3->4->5->"
     ]
    }
   ],
   "source": [
    "avl = AVL()\n",
    "avl.insert(5)\n",
    "avl.insert(4)\n",
    "avl.insert(3)\n",
    "avl.insert(2)\n",
    "avl.insert(1)\n",
    "avl.traverseInorder()"
   ]
  },
  {
   "cell_type": "code",
   "execution_count": 130,
   "metadata": {},
   "outputs": [
    {
     "name": "stdout",
     "output_type": "stream",
     "text": [
      "Node is greater than data : 5 > 3\n",
      "3->5->None\n",
      "Node is greater than data : 5 > 4\n",
      "Node is smaller than data : 3 < 4\n",
      "3->4->5->None\n",
      "3->4->5->None\n",
      "LEFT RIGHT HEAVY\n",
      "Rotating LEFT at Node :3\n",
      "Rotating RIGHT at Node :5\n",
      "3->4->5->"
     ]
    }
   ],
   "source": [
    "avl = AVL()\n",
    "avl.insert(5)\n",
    "avl.insert(3)\n",
    "avl.insert(4)\n",
    "avl.traverseInorder()"
   ]
  },
  {
   "cell_type": "code",
   "execution_count": 133,
   "metadata": {},
   "outputs": [
    {
     "name": "stdout",
     "output_type": "stream",
     "text": [
      "Node is smaller than data : 10 < 20\n",
      "10->20->None\n",
      "Node is smaller than data : 10 < 15\n",
      "Node is greater than data : 20 > 15\n",
      "10->15->20->None\n",
      "10->15->20->None\n",
      "RIGHT LEFT HEAVY\n",
      "10\n",
      "Rotating RIGHT at Node :20\n",
      "Rotating LEFT at Node :10\n",
      "10->15->20->"
     ]
    }
   ],
   "source": [
    "avl = AVL()\n",
    "avl.insert(10)\n",
    "avl.insert(20)\n",
    "avl.insert(15)\n",
    "avl.traverseInorder()"
   ]
  },
  {
   "cell_type": "code",
   "execution_count": 186,
   "metadata": {},
   "outputs": [
    {
     "name": "stdout",
     "output_type": "stream",
     "text": [
      "Node is smaller than data : 1 < 2\n",
      "1->2->None\n",
      "Node is smaller than data : 1 < 3\n",
      "Node is smaller than data : 2 < 3\n",
      "1->2->3->None\n",
      "1->2->3->None\n",
      "RIGHT RIGHT HEAVY\n",
      "Rotating LEFT at Node :1\n",
      "Node is smaller than data : 2 < 4\n",
      "Node is smaller than data : 3 < 4\n",
      "1->2->3->4->None\n",
      "1->2->3->4->None\n",
      "Node is smaller than data : 2 < 5\n",
      "Node is smaller than data : 3 < 5\n",
      "Node is smaller than data : 4 < 5\n",
      "1->2->3->4->5->None\n",
      "1->2->3->4->5->None\n",
      "RIGHT RIGHT HEAVY\n",
      "Rotating LEFT at Node :3\n",
      "1->2->3->4->5->None\n",
      "1->2->3->4->5->"
     ]
    }
   ],
   "source": [
    "avl = AVL()\n",
    "avl.insert(1)\n",
    "avl.insert(2)\n",
    "avl.insert(3)\n",
    "avl.insert(4)\n",
    "avl.insert(5)\n",
    "avl.traverseInorder()"
   ]
  },
  {
   "cell_type": "code",
   "execution_count": 190,
   "metadata": {},
   "outputs": [
    {
     "data": {
      "text/plain": [
       "4"
      ]
     },
     "execution_count": 190,
     "metadata": {},
     "output_type": "execute_result"
    }
   ],
   "source": [
    "avl.root.data"
   ]
  },
  {
   "cell_type": "code",
   "execution_count": 188,
   "metadata": {},
   "outputs": [
    {
     "name": "stdout",
     "output_type": "stream",
     "text": [
      "Data to delete : 1\n",
      "Data to delete : 1\n",
      "Leaf Node\n",
      "2\n",
      "2\n",
      "-2\n",
      "0\n",
      "0\n",
      "!!!!!!!\n",
      "RIGHT RIGHT HEAVY\n",
      "Rotating LEFT at Node :2\n"
     ]
    }
   ],
   "source": [
    "avl.removeData(1)"
   ]
  },
  {
   "cell_type": "code",
   "execution_count": 189,
   "metadata": {},
   "outputs": [
    {
     "data": {
      "text/plain": [
       "1"
      ]
     },
     "execution_count": 189,
     "metadata": {},
     "output_type": "execute_result"
    }
   ],
   "source": [
    "avl.calcbalance(avl.root)"
   ]
  }
 ],
 "metadata": {
  "kernelspec": {
   "display_name": "Python 3",
   "language": "python",
   "name": "python3"
  },
  "language_info": {
   "codemirror_mode": {
    "name": "ipython",
    "version": 3
   },
   "file_extension": ".py",
   "mimetype": "text/x-python",
   "name": "python",
   "nbconvert_exporter": "python",
   "pygments_lexer": "ipython3",
   "version": "3.7.4"
  }
 },
 "nbformat": 4,
 "nbformat_minor": 2
}
