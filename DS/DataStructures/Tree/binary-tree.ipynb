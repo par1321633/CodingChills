{
 "cells": [
  {
   "cell_type": "raw",
   "metadata": {},
   "source": [
    "Theory:\n",
    "\n",
    "Sorted Array : Inserting Item is very slow O(N)\n",
    "               Search is Fast\n",
    "               With the help of binary Search\n",
    "               \n",
    "               Delete Slow \n",
    "               \n",
    "Linked List : Insert O(1)\n",
    "              Search is slow, sequencial\n",
    "              Remove Fast O(1)\n",
    "              \n",
    "Hence it's important to use DS based on usage.\n",
    "\n",
    "Binary Search Tree is going to make all these operations fast. (logN)"
   ]
  },
  {
   "cell_type": "raw",
   "metadata": {},
   "source": [
    "Tree \n",
    "Have Node with Data and Connection between Nodes (Edges)\n",
    "Root Node\n",
    "Leaf Node\n",
    "\n",
    "Binary Search Trees:\n",
    "Every Node has atmost two children (Left, Right)\n",
    "Left -> Small than Parent\n",
    "Right -> Greater than Parent\n",
    "\n"
   ]
  },
  {
   "cell_type": "code",
   "execution_count": 1,
   "metadata": {},
   "outputs": [],
   "source": [
    "class Node(object):\n",
    "    def __init__(self, data):\n",
    "        self.data = data\n",
    "        self.leftChild = None\n",
    "        self.rightChild = None"
   ]
  },
  {
   "cell_type": "code",
   "execution_count": 111,
   "metadata": {},
   "outputs": [],
   "source": [
    "class BinarySearchTree(object):\n",
    "    def __init__(self):\n",
    "        self.root = None\n",
    "\n",
    "    def insert(self, data):\n",
    "        if self.root is None:\n",
    "            print (\"No ROOT is there, Adding data as root\")\n",
    "            self.root = Node(data)\n",
    "        else:\n",
    "            self.insertNode(self.root, data)\n",
    "\n",
    "    def insertNode(self, node, data):\n",
    "        if node.data > data:\n",
    "            print (\"Node is greater than data : {} > {}\".format(node.data, data))\n",
    "            if node.leftChild:\n",
    "                print (\"Left Node Exist, Recursion Call\")\n",
    "                self.insertNode(node.leftChild, data)\n",
    "            else:\n",
    "                print (\"Adding New Node\")\n",
    "                node.leftChild = Node(data)\n",
    "        else:\n",
    "            print (\"Node is smaller than data : {} < {}\".format(node.data, data))    \n",
    "            if node.rightChild:\n",
    "                print (\"Right Node Exist, Recursion Call\")\n",
    "                self.insertNode(node.rightChild, data)\n",
    "            else:\n",
    "                print (\"Adding New Node\")\n",
    "                node.rightChild = Node(data)\n",
    "    \n",
    "    def getMin(self):\n",
    "        curr = self.root\n",
    "        if curr is None:\n",
    "            print (\"Tree is empty\")\n",
    "            return None\n",
    "        while curr:\n",
    "            if curr.leftChild:\n",
    "                print (\"Left Child Exist, Proceeding Further\")\n",
    "                curr = curr.leftChild\n",
    "            else:\n",
    "                return curr.data\n",
    "    \n",
    "    def getMinRecursion(self):\n",
    "        if self.root:\n",
    "            return self.getMinRec(self.root)\n",
    "        else:\n",
    "            print (\"Tree is empty\")\n",
    "            return None\n",
    "    \n",
    "    def getMinRec(self, node):\n",
    "        if node.leftChild:\n",
    "            return self.getMinRec(node.leftChild)\n",
    "        return node.data\n",
    "    \n",
    "    def getMax(self):\n",
    "        curr = self.root\n",
    "        if curr is None:\n",
    "            print (\"Tree is empty\")\n",
    "            return None\n",
    "        while curr:\n",
    "            if curr.rightChild:\n",
    "                print (\"Right Child Exist, Proceeding Further\")\n",
    "                curr = curr.rightChild\n",
    "            else:\n",
    "                return curr.data\n",
    "    \n",
    "    def getMaxRecursion(self):\n",
    "        if self.root:\n",
    "            return self.getMaxRec(self.root)\n",
    "        else:\n",
    "            print (\"Tree is empty\")\n",
    "            return None\n",
    "    \n",
    "    def getMaxRec(self, node):\n",
    "        if node.rightChild:\n",
    "            return self.getMinRec(node.rightChild)\n",
    "        return node.data\n",
    "    \n",
    "    def traverseInorder(self):\n",
    "        if self.root:\n",
    "            self.traverseInOrderRecur(self.root)\n",
    "        else:\n",
    "            print (\"Tree is empty\")\n",
    "    \n",
    "    def traverseInOrderRecur(self, node):\n",
    "        if node.leftChild is not None:\n",
    "            self.traverseInOrderRecur(node.leftChild)\n",
    "        \n",
    "        print (node.data, end='->')\n",
    "        \n",
    "        if node.rightChild is not None:\n",
    "            self.traverseInOrderRecur(node.rightChild)\n",
    "    \n",
    "    def removeData(self, data):\n",
    "        if self.root:\n",
    "            self.root = self.removeNode(self.root, data)\n",
    "    \n",
    "    def removeNode(self, node, data):\n",
    "        print (\"Data to delete : {}\".format(data))\n",
    "        if not node:\n",
    "            return node\n",
    "        if node.data > data:\n",
    "            node.leftChild = self.removeNode(node.leftChild, data)\n",
    "        elif node.data < data:\n",
    "            node.rightChild = self.removeNode(node.rightChild, data)\n",
    "        else:\n",
    "            if node.leftChild is None and node.rightChild is None:\n",
    "                print (\"Leaf Node\")\n",
    "                del node\n",
    "                return None\n",
    "            elif node.leftChild is None:\n",
    "                print (\"Removing Node with right Child\")\n",
    "                tempNode = node.rightChild\n",
    "                del node\n",
    "                return tempNode\n",
    "            elif node.rightChild is None:\n",
    "                print (\"Removing Node with left Child\")\n",
    "                tempNode = node.leftChild\n",
    "                del node\n",
    "                return tempNode\n",
    "            print (node.data)\n",
    "            print (node.leftChild.data)\n",
    "            print (\"Removing Node with 2 Children\")\n",
    "            tempNode = self.getPredeccor(node.leftChild)\n",
    "            print (self.traverseInorder())\n",
    "            node.data = tempNode.data\n",
    "            print (self.traverseInorder())\n",
    "            node.leftChild = self.removeNode(node.leftChild,tempNode.data)\n",
    "            print (self.traverseInorder())\n",
    "        return node\n",
    "        \n",
    "    def getPredeccor(self, node):\n",
    "        if node.rightChild:\n",
    "            return self.getPredeccor(node.rightChild)\n",
    "        return node\n",
    "            \n",
    "            "
   ]
  },
  {
   "cell_type": "code",
   "execution_count": 119,
   "metadata": {},
   "outputs": [],
   "source": [
    "bst = BinarySearchTree()"
   ]
  },
  {
   "cell_type": "code",
   "execution_count": 120,
   "metadata": {},
   "outputs": [
    {
     "name": "stdout",
     "output_type": "stream",
     "text": [
      "No ROOT is there, Adding data as root\n",
      "Node is greater than data : 10 > 5\n",
      "Adding New Node\n",
      "Node is smaller than data : 10 < 15\n",
      "Adding New Node\n",
      "Node is greater than data : 10 > 7\n",
      "Left Node Exist, Recursion Call\n",
      "Node is smaller than data : 5 < 7\n",
      "Adding New Node\n",
      "Node is smaller than data : 10 < 12\n",
      "Right Node Exist, Recursion Call\n",
      "Node is greater than data : 15 > 12\n",
      "Adding New Node\n"
     ]
    }
   ],
   "source": [
    "bst.insert(10)\n",
    "bst.insert(5)\n",
    "bst.insert(15)\n",
    "bst.insert(7)\n",
    "bst.insert(12)"
   ]
  },
  {
   "cell_type": "code",
   "execution_count": 121,
   "metadata": {},
   "outputs": [
    {
     "name": "stdout",
     "output_type": "stream",
     "text": [
      "Node is smaller than data : 10 < 16\n",
      "Right Node Exist, Recursion Call\n",
      "Node is smaller than data : 15 < 16\n",
      "Adding New Node\n",
      "Node is smaller than data : 10 < 13\n",
      "Right Node Exist, Recursion Call\n",
      "Node is greater than data : 15 > 13\n",
      "Left Node Exist, Recursion Call\n",
      "Node is smaller than data : 12 < 13\n",
      "Adding New Node\n",
      "Node is greater than data : 10 > 2\n",
      "Left Node Exist, Recursion Call\n",
      "Node is greater than data : 5 > 2\n",
      "Adding New Node\n"
     ]
    }
   ],
   "source": [
    "bst.insert(16)\n",
    "bst.insert(13)\n",
    "bst.insert(2)"
   ]
  },
  {
   "cell_type": "code",
   "execution_count": 122,
   "metadata": {},
   "outputs": [
    {
     "name": "stdout",
     "output_type": "stream",
     "text": [
      "Node is greater than data : 10 > 4\n",
      "Left Node Exist, Recursion Call\n",
      "Node is greater than data : 5 > 4\n",
      "Left Node Exist, Recursion Call\n",
      "Node is smaller than data : 2 < 4\n",
      "Adding New Node\n",
      "Node is greater than data : 10 > 3\n",
      "Left Node Exist, Recursion Call\n",
      "Node is greater than data : 5 > 3\n",
      "Left Node Exist, Recursion Call\n",
      "Node is smaller than data : 2 < 3\n",
      "Right Node Exist, Recursion Call\n",
      "Node is greater than data : 4 > 3\n",
      "Adding New Node\n"
     ]
    }
   ],
   "source": [
    "bst.insert(4)\n",
    "bst.insert(3)"
   ]
  },
  {
   "cell_type": "code",
   "execution_count": 123,
   "metadata": {},
   "outputs": [
    {
     "name": "stdout",
     "output_type": "stream",
     "text": [
      "Left Child Exist, Proceeding Further\n",
      "Left Child Exist, Proceeding Further\n"
     ]
    },
    {
     "data": {
      "text/plain": [
       "2"
      ]
     },
     "execution_count": 123,
     "metadata": {},
     "output_type": "execute_result"
    }
   ],
   "source": [
    "bst.getMin()"
   ]
  },
  {
   "cell_type": "code",
   "execution_count": 124,
   "metadata": {},
   "outputs": [
    {
     "name": "stdout",
     "output_type": "stream",
     "text": [
      "Right Child Exist, Proceeding Further\n",
      "Right Child Exist, Proceeding Further\n"
     ]
    },
    {
     "data": {
      "text/plain": [
       "16"
      ]
     },
     "execution_count": 124,
     "metadata": {},
     "output_type": "execute_result"
    }
   ],
   "source": [
    "bst.getMax()"
   ]
  },
  {
   "cell_type": "code",
   "execution_count": 125,
   "metadata": {},
   "outputs": [
    {
     "name": "stdout",
     "output_type": "stream",
     "text": [
      "2->3->4->5->7->10->12->13->15->16->"
     ]
    }
   ],
   "source": [
    "bst.traverseInorder()"
   ]
  },
  {
   "cell_type": "code",
   "execution_count": 126,
   "metadata": {},
   "outputs": [
    {
     "name": "stdout",
     "output_type": "stream",
     "text": [
      "5\n",
      "2\n",
      "Removing Node with 2 Children\n",
      "2->3->4->5->7->10->12->13->15->16->None\n",
      "2->3->4->4->7->10->12->13->15->16->None\n",
      "Removing Node with left Child\n",
      "2->3->4->7->10->12->13->15->16->None\n"
     ]
    }
   ],
   "source": [
    "bst.removeData(5)"
   ]
  },
  {
   "cell_type": "code",
   "execution_count": 101,
   "metadata": {},
   "outputs": [
    {
     "name": "stdout",
     "output_type": "stream",
     "text": [
      "Leaf Node\n"
     ]
    }
   ],
   "source": [
    "bst.removeData(7)"
   ]
  },
  {
   "cell_type": "code",
   "execution_count": 102,
   "metadata": {},
   "outputs": [],
   "source": [
    "bst.removeData(8)"
   ]
  }
 ],
 "metadata": {
  "kernelspec": {
   "display_name": "Python 3",
   "language": "python",
   "name": "python3"
  },
  "language_info": {
   "codemirror_mode": {
    "name": "ipython",
    "version": 3
   },
   "file_extension": ".py",
   "mimetype": "text/x-python",
   "name": "python",
   "nbconvert_exporter": "python",
   "pygments_lexer": "ipython3",
   "version": "3.7.4"
  }
 },
 "nbformat": 4,
 "nbformat_minor": 2
}
